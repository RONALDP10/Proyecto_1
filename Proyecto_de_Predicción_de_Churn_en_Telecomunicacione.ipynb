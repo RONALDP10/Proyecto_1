{
 "cells": [
  {
   "cell_type": "markdown",
   "metadata": {
    "id": "bs4g3Rc62iub"
   },
   "source": [
    "## **Proyecto de Predicción de Churn en empresa de Telecomunicaciones**"
   ]
  },
  {
   "cell_type": "markdown",
   "metadata": {
    "id": "JDPJqsPh247k"
   },
   "source": [
    "# **1. Configuración del Ambiente**"
   ]
  },
  {
   "cell_type": "code",
   "execution_count": 2,
   "metadata": {
    "id": "45bbOG-i28nz"
   },
   "outputs": [],
   "source": [
    "#Se cargan todas las librerias necesarias para el proyecto\n",
    "\n",
    "import numpy as np\n",
    "import pandas as pd\n",
    "pd.set_option('display.max_columns', None)\n",
    "import seaborn as sns\n",
    "import matplotlib.pyplot as plt\n",
    "import json\n",
    "from sklearn.model_selection import train_test_split\n",
    "from sklearn.ensemble import RandomForestClassifier\n",
    "from sklearn.feature_selection import SelectKBest\n",
    "from sklearn.feature_selection import chi2\n",
    "from sklearn.feature_selection import RFECV\n",
    "from sklearn.feature_selection import RFE\n",
    "from sklearn.decomposition import PCA\n",
    "from sklearn.model_selection import cross_val_score\n",
    "\n",
    "#biblioteca para balancear los datos utilizando over_sampling\n",
    "from imblearn.over_sampling import SMOTE"
   ]
  },
  {
   "cell_type": "code",
   "execution_count": 3,
   "metadata": {
    "id": "DzOlA6pY3Dnj"
   },
   "outputs": [],
   "source": [
    "#Se establece una variable global que contendrá el dataframe\n",
    "global datos_churn"
   ]
  },
  {
   "cell_type": "markdown",
   "metadata": {
    "id": "ObJ-is5S3K4u"
   },
   "source": [
    "# **2. Obtención y Tratamiento de Datos**"
   ]
  },
  {
   "cell_type": "markdown",
   "metadata": {
    "id": "uSniYPmJ3Qcr"
   },
   "source": [
    "## **2.1 Cargando las bases de datos**"
   ]
  },
  {
   "cell_type": "code",
   "execution_count": 4,
   "metadata": {
    "colab": {
     "base_uri": "https://localhost:8080/",
     "height": 293
    },
    "id": "aQJ4Wz5d3U9r",
    "outputId": "66f23f83-4a79-4dfc-dd49-7b156c63a851"
   },
   "outputs": [
    {
     "data": {
      "text/html": [
       "<div>\n",
       "<style scoped>\n",
       "    .dataframe tbody tr th:only-of-type {\n",
       "        vertical-align: middle;\n",
       "    }\n",
       "\n",
       "    .dataframe tbody tr th {\n",
       "        vertical-align: top;\n",
       "    }\n",
       "\n",
       "    .dataframe thead th {\n",
       "        text-align: right;\n",
       "    }\n",
       "</style>\n",
       "<table border=\"1\" class=\"dataframe\">\n",
       "  <thead>\n",
       "    <tr style=\"text-align: right;\">\n",
       "      <th></th>\n",
       "      <th>id_cliente</th>\n",
       "      <th>Churn</th>\n",
       "      <th>cliente</th>\n",
       "      <th>telefono</th>\n",
       "      <th>internet</th>\n",
       "      <th>cuenta</th>\n",
       "    </tr>\n",
       "  </thead>\n",
       "  <tbody>\n",
       "    <tr>\n",
       "      <th>0</th>\n",
       "      <td>0002-ORFBO</td>\n",
       "      <td>no</td>\n",
       "      <td>{'genero': 'femenino', 'anciano': 0, 'pareja':...</td>\n",
       "      <td>{'servicio_telefono': 'si', 'varias_lineas': '...</td>\n",
       "      <td>{'servicio_internet': 'DSL', 'seguridad_online...</td>\n",
       "      <td>{'contrato': None, 'facturacion_electronica': ...</td>\n",
       "    </tr>\n",
       "    <tr>\n",
       "      <th>1</th>\n",
       "      <td>0003-MKNFE</td>\n",
       "      <td>no</td>\n",
       "      <td>{'genero': 'masculino', 'anciano': 0, 'pareja'...</td>\n",
       "      <td>{'servicio_telefono': 'si', 'varias_lineas': '...</td>\n",
       "      <td>{'servicio_internet': 'DSL', 'seguridad_online...</td>\n",
       "      <td>{'contrato': 'mensual', 'facturacion_electroni...</td>\n",
       "    </tr>\n",
       "    <tr>\n",
       "      <th>2</th>\n",
       "      <td>0004-TLHLJ</td>\n",
       "      <td>si</td>\n",
       "      <td>{'genero': 'masculino', 'anciano': 0, 'pareja'...</td>\n",
       "      <td>{'servicio_telefono': 'si', 'varias_lineas': '...</td>\n",
       "      <td>{'servicio_internet': 'fibra optica', 'segurid...</td>\n",
       "      <td>{'contrato': 'mensual', 'facturacion_electroni...</td>\n",
       "    </tr>\n",
       "    <tr>\n",
       "      <th>3</th>\n",
       "      <td>0011-IGKFF</td>\n",
       "      <td>si</td>\n",
       "      <td>{'genero': 'masculino', 'anciano': 1, 'pareja'...</td>\n",
       "      <td>{'servicio_telefono': 'si', 'varias_lineas': '...</td>\n",
       "      <td>{'servicio_internet': 'fibra optica', 'segurid...</td>\n",
       "      <td>{'contrato': 'mensual', 'facturacion_electroni...</td>\n",
       "    </tr>\n",
       "    <tr>\n",
       "      <th>4</th>\n",
       "      <td>0013-EXCHZ</td>\n",
       "      <td>si</td>\n",
       "      <td>{'genero': 'femenino', 'anciano': 1, 'pareja':...</td>\n",
       "      <td>{'servicio_telefono': 'si', 'varias_lineas': '...</td>\n",
       "      <td>{'servicio_internet': 'fibra optica', 'segurid...</td>\n",
       "      <td>{'contrato': 'mensual', 'facturacion_electroni...</td>\n",
       "    </tr>\n",
       "  </tbody>\n",
       "</table>\n",
       "</div>"
      ],
      "text/plain": [
       "   id_cliente Churn                                            cliente  \\\n",
       "0  0002-ORFBO    no  {'genero': 'femenino', 'anciano': 0, 'pareja':...   \n",
       "1  0003-MKNFE    no  {'genero': 'masculino', 'anciano': 0, 'pareja'...   \n",
       "2  0004-TLHLJ    si  {'genero': 'masculino', 'anciano': 0, 'pareja'...   \n",
       "3  0011-IGKFF    si  {'genero': 'masculino', 'anciano': 1, 'pareja'...   \n",
       "4  0013-EXCHZ    si  {'genero': 'femenino', 'anciano': 1, 'pareja':...   \n",
       "\n",
       "                                            telefono  \\\n",
       "0  {'servicio_telefono': 'si', 'varias_lineas': '...   \n",
       "1  {'servicio_telefono': 'si', 'varias_lineas': '...   \n",
       "2  {'servicio_telefono': 'si', 'varias_lineas': '...   \n",
       "3  {'servicio_telefono': 'si', 'varias_lineas': '...   \n",
       "4  {'servicio_telefono': 'si', 'varias_lineas': '...   \n",
       "\n",
       "                                            internet  \\\n",
       "0  {'servicio_internet': 'DSL', 'seguridad_online...   \n",
       "1  {'servicio_internet': 'DSL', 'seguridad_online...   \n",
       "2  {'servicio_internet': 'fibra optica', 'segurid...   \n",
       "3  {'servicio_internet': 'fibra optica', 'segurid...   \n",
       "4  {'servicio_internet': 'fibra optica', 'segurid...   \n",
       "\n",
       "                                              cuenta  \n",
       "0  {'contrato': None, 'facturacion_electronica': ...  \n",
       "1  {'contrato': 'mensual', 'facturacion_electroni...  \n",
       "2  {'contrato': 'mensual', 'facturacion_electroni...  \n",
       "3  {'contrato': 'mensual', 'facturacion_electroni...  \n",
       "4  {'contrato': 'mensual', 'facturacion_electroni...  "
      ]
     },
     "execution_count": 4,
     "metadata": {},
     "output_type": "execute_result"
    }
   ],
   "source": [
    "#Se cargan los datos que están guardados en formato '.json'\n",
    "datos_churn = pd.read_json(\"base_clientes.json\")\n",
    "datos_churn.head()"
   ]
  },
  {
   "cell_type": "code",
   "execution_count": 5,
   "metadata": {
    "colab": {
     "base_uri": "https://localhost:8080/"
    },
    "id": "ee5m6aBo3aDw",
    "outputId": "b63300a8-a9ed-41a3-a737-a43addd02ec3"
   },
   "outputs": [
    {
     "name": "stdout",
     "output_type": "stream",
     "text": [
      "<class 'pandas.core.frame.DataFrame'>\n",
      "RangeIndex: 7344 entries, 0 to 7343\n",
      "Data columns (total 6 columns):\n",
      " #   Column      Non-Null Count  Dtype \n",
      "---  ------      --------------  ----- \n",
      " 0   id_cliente  7344 non-null   object\n",
      " 1   Churn       7344 non-null   object\n",
      " 2   cliente     7344 non-null   object\n",
      " 3   telefono    7344 non-null   object\n",
      " 4   internet    7344 non-null   object\n",
      " 5   cuenta      7344 non-null   object\n",
      "dtypes: object(6)\n",
      "memory usage: 344.4+ KB\n"
     ]
    }
   ],
   "source": [
    "#Observación general de los datos\n",
    "datos_churn.info()"
   ]
  },
  {
   "cell_type": "markdown",
   "metadata": {
    "id": "81LC_dffXpyn"
   },
   "source": [
    "Se observa que existen columnas anidadas, por lo que es necesario realizar una normalización para obtener una mejor estructura del dataframe para el análisis y tratamiento de datos."
   ]
  },
  {
   "cell_type": "code",
   "execution_count": 6,
   "metadata": {
    "id": "rPT7FX-P4cux"
   },
   "outputs": [],
   "source": [
    "#se define una función que permite la extración de los datos anidados\n",
    "def lectura_datos():\n",
    "  global datos_churn\n",
    "\n",
    "  with open(\"base_clientes.json\", encoding='utf-8') as f:\n",
    "    json_bruto = json.load(f)\n",
    "  datos_churn = pd.json_normalize(json_bruto)"
   ]
  },
  {
   "cell_type": "code",
   "execution_count": 7,
   "metadata": {
    "id": "YD2gjS6OF8kD"
   },
   "outputs": [],
   "source": [
    "lectura_datos()"
   ]
  },
  {
   "cell_type": "code",
   "execution_count": 8,
   "metadata": {
    "colab": {
     "base_uri": "https://localhost:8080/",
     "height": 1000
    },
    "id": "1bhGhFBwF-hf",
    "outputId": "f0feac51-b02a-4ee9-ab7d-95bf4254f6c9"
   },
   "outputs": [
    {
     "data": {
      "text/html": [
       "<div>\n",
       "<style scoped>\n",
       "    .dataframe tbody tr th:only-of-type {\n",
       "        vertical-align: middle;\n",
       "    }\n",
       "\n",
       "    .dataframe tbody tr th {\n",
       "        vertical-align: top;\n",
       "    }\n",
       "\n",
       "    .dataframe thead th {\n",
       "        text-align: right;\n",
       "    }\n",
       "</style>\n",
       "<table border=\"1\" class=\"dataframe\">\n",
       "  <thead>\n",
       "    <tr style=\"text-align: right;\">\n",
       "      <th></th>\n",
       "      <th>id_cliente</th>\n",
       "      <th>Churn</th>\n",
       "      <th>cliente.genero</th>\n",
       "      <th>cliente.anciano</th>\n",
       "      <th>cliente.pareja</th>\n",
       "      <th>cliente.dependientes</th>\n",
       "      <th>cliente.tiempo_servicio</th>\n",
       "      <th>telefono.servicio_telefono</th>\n",
       "      <th>telefono.varias_lineas</th>\n",
       "      <th>internet.servicio_internet</th>\n",
       "      <th>internet.seguridad_online</th>\n",
       "      <th>internet.backup_online</th>\n",
       "      <th>internet.proteccion_dispositivo</th>\n",
       "      <th>internet.soporte_tecnico</th>\n",
       "      <th>internet.tv_streaming</th>\n",
       "      <th>internet.peliculas_streaming</th>\n",
       "      <th>cuenta.contrato</th>\n",
       "      <th>cuenta.facturacion_electronica</th>\n",
       "      <th>cuenta.metodo_pago</th>\n",
       "      <th>cuenta.cobros.mensual</th>\n",
       "      <th>cuenta.cobros.Total</th>\n",
       "    </tr>\n",
       "  </thead>\n",
       "  <tbody>\n",
       "    <tr>\n",
       "      <th>0</th>\n",
       "      <td>0002-ORFBO</td>\n",
       "      <td>no</td>\n",
       "      <td>femenino</td>\n",
       "      <td>0</td>\n",
       "      <td>si</td>\n",
       "      <td>si</td>\n",
       "      <td>9.0</td>\n",
       "      <td>si</td>\n",
       "      <td>no</td>\n",
       "      <td>DSL</td>\n",
       "      <td>no</td>\n",
       "      <td>si</td>\n",
       "      <td>no</td>\n",
       "      <td>si</td>\n",
       "      <td>si</td>\n",
       "      <td>no</td>\n",
       "      <td>None</td>\n",
       "      <td>None</td>\n",
       "      <td>None</td>\n",
       "      <td>NaN</td>\n",
       "      <td>None</td>\n",
       "    </tr>\n",
       "    <tr>\n",
       "      <th>1</th>\n",
       "      <td>0003-MKNFE</td>\n",
       "      <td>no</td>\n",
       "      <td>masculino</td>\n",
       "      <td>0</td>\n",
       "      <td>no</td>\n",
       "      <td>no</td>\n",
       "      <td>9.0</td>\n",
       "      <td>si</td>\n",
       "      <td>si</td>\n",
       "      <td>DSL</td>\n",
       "      <td>no</td>\n",
       "      <td>no</td>\n",
       "      <td>no</td>\n",
       "      <td>no</td>\n",
       "      <td>no</td>\n",
       "      <td>si</td>\n",
       "      <td>mensual</td>\n",
       "      <td>no</td>\n",
       "      <td>cheque</td>\n",
       "      <td>59.90</td>\n",
       "      <td>542.4</td>\n",
       "    </tr>\n",
       "    <tr>\n",
       "      <th>2</th>\n",
       "      <td>0004-TLHLJ</td>\n",
       "      <td>si</td>\n",
       "      <td>masculino</td>\n",
       "      <td>0</td>\n",
       "      <td>no</td>\n",
       "      <td>no</td>\n",
       "      <td>4.0</td>\n",
       "      <td>si</td>\n",
       "      <td>no</td>\n",
       "      <td>fibra optica</td>\n",
       "      <td>no</td>\n",
       "      <td>no</td>\n",
       "      <td>si</td>\n",
       "      <td>no</td>\n",
       "      <td>no</td>\n",
       "      <td>no</td>\n",
       "      <td>mensual</td>\n",
       "      <td>si</td>\n",
       "      <td>cheque electronico</td>\n",
       "      <td>73.90</td>\n",
       "      <td>280.85</td>\n",
       "    </tr>\n",
       "    <tr>\n",
       "      <th>3</th>\n",
       "      <td>0011-IGKFF</td>\n",
       "      <td>si</td>\n",
       "      <td>masculino</td>\n",
       "      <td>1</td>\n",
       "      <td>si</td>\n",
       "      <td>no</td>\n",
       "      <td>13.0</td>\n",
       "      <td>si</td>\n",
       "      <td>no</td>\n",
       "      <td>fibra optica</td>\n",
       "      <td>no</td>\n",
       "      <td>si</td>\n",
       "      <td>si</td>\n",
       "      <td>no</td>\n",
       "      <td>si</td>\n",
       "      <td>si</td>\n",
       "      <td>mensual</td>\n",
       "      <td>si</td>\n",
       "      <td>cheque electronico</td>\n",
       "      <td>98.00</td>\n",
       "      <td>1237.85</td>\n",
       "    </tr>\n",
       "    <tr>\n",
       "      <th>4</th>\n",
       "      <td>0013-EXCHZ</td>\n",
       "      <td>si</td>\n",
       "      <td>femenino</td>\n",
       "      <td>1</td>\n",
       "      <td>si</td>\n",
       "      <td>no</td>\n",
       "      <td>3.0</td>\n",
       "      <td>si</td>\n",
       "      <td>no</td>\n",
       "      <td>fibra optica</td>\n",
       "      <td>no</td>\n",
       "      <td>no</td>\n",
       "      <td>no</td>\n",
       "      <td>si</td>\n",
       "      <td>si</td>\n",
       "      <td>no</td>\n",
       "      <td>mensual</td>\n",
       "      <td>si</td>\n",
       "      <td>cheque</td>\n",
       "      <td>83.90</td>\n",
       "      <td>267.4</td>\n",
       "    </tr>\n",
       "    <tr>\n",
       "      <th>5</th>\n",
       "      <td>0013-MHZWF</td>\n",
       "      <td>no</td>\n",
       "      <td>femenino</td>\n",
       "      <td>0</td>\n",
       "      <td>no</td>\n",
       "      <td>si</td>\n",
       "      <td>9.0</td>\n",
       "      <td>si</td>\n",
       "      <td>no</td>\n",
       "      <td>DSL</td>\n",
       "      <td>no</td>\n",
       "      <td>no</td>\n",
       "      <td>no</td>\n",
       "      <td>si</td>\n",
       "      <td>si</td>\n",
       "      <td>si</td>\n",
       "      <td>mensual</td>\n",
       "      <td>si</td>\n",
       "      <td>tarjeta de credito (automatico)</td>\n",
       "      <td>69.40</td>\n",
       "      <td>571.45</td>\n",
       "    </tr>\n",
       "    <tr>\n",
       "      <th>6</th>\n",
       "      <td>0013-SMEOE</td>\n",
       "      <td>no</td>\n",
       "      <td>femenino</td>\n",
       "      <td>1</td>\n",
       "      <td>si</td>\n",
       "      <td>no</td>\n",
       "      <td>71.0</td>\n",
       "      <td>si</td>\n",
       "      <td>no</td>\n",
       "      <td>fibra optica</td>\n",
       "      <td>si</td>\n",
       "      <td>si</td>\n",
       "      <td>si</td>\n",
       "      <td>si</td>\n",
       "      <td>si</td>\n",
       "      <td>si</td>\n",
       "      <td>dos años</td>\n",
       "      <td>si</td>\n",
       "      <td>transferencia bancaria (automatica)</td>\n",
       "      <td>109.70</td>\n",
       "      <td>7904.25</td>\n",
       "    </tr>\n",
       "    <tr>\n",
       "      <th>7</th>\n",
       "      <td>0014-BMAQU</td>\n",
       "      <td>no</td>\n",
       "      <td>masculino</td>\n",
       "      <td>0</td>\n",
       "      <td>si</td>\n",
       "      <td>no</td>\n",
       "      <td>63.0</td>\n",
       "      <td>si</td>\n",
       "      <td>si</td>\n",
       "      <td>fibra optica</td>\n",
       "      <td>si</td>\n",
       "      <td>no</td>\n",
       "      <td>no</td>\n",
       "      <td>si</td>\n",
       "      <td>no</td>\n",
       "      <td>no</td>\n",
       "      <td>dos años</td>\n",
       "      <td>si</td>\n",
       "      <td>tarjeta de credito (automatico)</td>\n",
       "      <td>84.65</td>\n",
       "      <td>5377.8</td>\n",
       "    </tr>\n",
       "    <tr>\n",
       "      <th>8</th>\n",
       "      <td>0015-UOCOJ</td>\n",
       "      <td>no</td>\n",
       "      <td>femenino</td>\n",
       "      <td>1</td>\n",
       "      <td>no</td>\n",
       "      <td>no</td>\n",
       "      <td>7.0</td>\n",
       "      <td>si</td>\n",
       "      <td>no</td>\n",
       "      <td>DSL</td>\n",
       "      <td>si</td>\n",
       "      <td>no</td>\n",
       "      <td>no</td>\n",
       "      <td>no</td>\n",
       "      <td>no</td>\n",
       "      <td>no</td>\n",
       "      <td>mensual</td>\n",
       "      <td>si</td>\n",
       "      <td>cheque electronico</td>\n",
       "      <td>48.20</td>\n",
       "      <td>340.35</td>\n",
       "    </tr>\n",
       "    <tr>\n",
       "      <th>9</th>\n",
       "      <td>0016-QLJIS</td>\n",
       "      <td>no</td>\n",
       "      <td>femenino</td>\n",
       "      <td>0</td>\n",
       "      <td>si</td>\n",
       "      <td>si</td>\n",
       "      <td>NaN</td>\n",
       "      <td>si</td>\n",
       "      <td>si</td>\n",
       "      <td>DSL</td>\n",
       "      <td>si</td>\n",
       "      <td>si</td>\n",
       "      <td>si</td>\n",
       "      <td>si</td>\n",
       "      <td>si</td>\n",
       "      <td>si</td>\n",
       "      <td>dos años</td>\n",
       "      <td>si</td>\n",
       "      <td>cheque</td>\n",
       "      <td>90.45</td>\n",
       "      <td>5957.9</td>\n",
       "    </tr>\n",
       "    <tr>\n",
       "      <th>10</th>\n",
       "      <td>0017-DInaoC</td>\n",
       "      <td>no</td>\n",
       "      <td>masculino</td>\n",
       "      <td>0</td>\n",
       "      <td>no</td>\n",
       "      <td>no</td>\n",
       "      <td>54.0</td>\n",
       "      <td>no</td>\n",
       "      <td>sin servicio de telefono</td>\n",
       "      <td>DSL</td>\n",
       "      <td>si</td>\n",
       "      <td>no</td>\n",
       "      <td>no</td>\n",
       "      <td>si</td>\n",
       "      <td>si</td>\n",
       "      <td>no</td>\n",
       "      <td>dos años</td>\n",
       "      <td>no</td>\n",
       "      <td>tarjeta de credito (automatico)</td>\n",
       "      <td>45.20</td>\n",
       "      <td>2460.55</td>\n",
       "    </tr>\n",
       "    <tr>\n",
       "      <th>11</th>\n",
       "      <td>0017-IUDMW</td>\n",
       "      <td>no</td>\n",
       "      <td>femenino</td>\n",
       "      <td>0</td>\n",
       "      <td>si</td>\n",
       "      <td>si</td>\n",
       "      <td>72.0</td>\n",
       "      <td>si</td>\n",
       "      <td>si</td>\n",
       "      <td>fibra optica</td>\n",
       "      <td>si</td>\n",
       "      <td>si</td>\n",
       "      <td>si</td>\n",
       "      <td>si</td>\n",
       "      <td>si</td>\n",
       "      <td>si</td>\n",
       "      <td>dos años</td>\n",
       "      <td>si</td>\n",
       "      <td>tarjeta de credito (automatico)</td>\n",
       "      <td>116.80</td>\n",
       "      <td>8456.75</td>\n",
       "    </tr>\n",
       "    <tr>\n",
       "      <th>12</th>\n",
       "      <td>0018-NYROU</td>\n",
       "      <td>no</td>\n",
       "      <td>femenino</td>\n",
       "      <td>0</td>\n",
       "      <td>si</td>\n",
       "      <td>no</td>\n",
       "      <td>5.0</td>\n",
       "      <td>si</td>\n",
       "      <td>no</td>\n",
       "      <td>fibra optica</td>\n",
       "      <td>no</td>\n",
       "      <td>no</td>\n",
       "      <td>no</td>\n",
       "      <td>no</td>\n",
       "      <td>no</td>\n",
       "      <td>no</td>\n",
       "      <td>mensual</td>\n",
       "      <td>si</td>\n",
       "      <td>cheque electronico</td>\n",
       "      <td>68.95</td>\n",
       "      <td>351.5</td>\n",
       "    </tr>\n",
       "    <tr>\n",
       "      <th>13</th>\n",
       "      <td>0019-EFAEP</td>\n",
       "      <td>no</td>\n",
       "      <td>femenino</td>\n",
       "      <td>0</td>\n",
       "      <td>no</td>\n",
       "      <td>no</td>\n",
       "      <td>72.0</td>\n",
       "      <td>si</td>\n",
       "      <td>si</td>\n",
       "      <td>fibra optica</td>\n",
       "      <td>si</td>\n",
       "      <td>si</td>\n",
       "      <td>si</td>\n",
       "      <td>no</td>\n",
       "      <td>si</td>\n",
       "      <td>no</td>\n",
       "      <td>dos años</td>\n",
       "      <td>si</td>\n",
       "      <td>transferencia bancaria (automatica)</td>\n",
       "      <td>101.30</td>\n",
       "      <td>7261.25</td>\n",
       "    </tr>\n",
       "    <tr>\n",
       "      <th>14</th>\n",
       "      <td>0019-GFNTW</td>\n",
       "      <td>no</td>\n",
       "      <td>femenino</td>\n",
       "      <td>0</td>\n",
       "      <td>no</td>\n",
       "      <td>no</td>\n",
       "      <td>56.0</td>\n",
       "      <td>no</td>\n",
       "      <td>sin servicio de telefono</td>\n",
       "      <td>DSL</td>\n",
       "      <td>si</td>\n",
       "      <td>si</td>\n",
       "      <td>si</td>\n",
       "      <td>si</td>\n",
       "      <td>no</td>\n",
       "      <td>no</td>\n",
       "      <td>dos años</td>\n",
       "      <td>no</td>\n",
       "      <td>transferencia bancaria (automatica)</td>\n",
       "      <td>45.05</td>\n",
       "      <td>2560.1</td>\n",
       "    </tr>\n",
       "    <tr>\n",
       "      <th>15</th>\n",
       "      <td>0020-INWCK</td>\n",
       "      <td>no</td>\n",
       "      <td>femenino</td>\n",
       "      <td>0</td>\n",
       "      <td>si</td>\n",
       "      <td>si</td>\n",
       "      <td>71.0</td>\n",
       "      <td>si</td>\n",
       "      <td>si</td>\n",
       "      <td>fibra optica</td>\n",
       "      <td>no</td>\n",
       "      <td>si</td>\n",
       "      <td>si</td>\n",
       "      <td>no</td>\n",
       "      <td>no</td>\n",
       "      <td>si</td>\n",
       "      <td>dos años</td>\n",
       "      <td>si</td>\n",
       "      <td>tarjeta de credito (automatico)</td>\n",
       "      <td>95.75</td>\n",
       "      <td>6849.4</td>\n",
       "    </tr>\n",
       "    <tr>\n",
       "      <th>16</th>\n",
       "      <td>0020-JDNXP</td>\n",
       "      <td>no</td>\n",
       "      <td>femenino</td>\n",
       "      <td>0</td>\n",
       "      <td>si</td>\n",
       "      <td>si</td>\n",
       "      <td>34.0</td>\n",
       "      <td>no</td>\n",
       "      <td>sin servicio de telefono</td>\n",
       "      <td>DSL</td>\n",
       "      <td>si</td>\n",
       "      <td>no</td>\n",
       "      <td>si</td>\n",
       "      <td>si</td>\n",
       "      <td>si</td>\n",
       "      <td>si</td>\n",
       "      <td>un año</td>\n",
       "      <td>no</td>\n",
       "      <td>cheque</td>\n",
       "      <td>61.25</td>\n",
       "      <td>1993.2</td>\n",
       "    </tr>\n",
       "    <tr>\n",
       "      <th>17</th>\n",
       "      <td>0021-IKXGC</td>\n",
       "      <td>no</td>\n",
       "      <td>femenino</td>\n",
       "      <td>1</td>\n",
       "      <td>no</td>\n",
       "      <td>no</td>\n",
       "      <td>1.0</td>\n",
       "      <td>si</td>\n",
       "      <td>si</td>\n",
       "      <td>fibra optica</td>\n",
       "      <td>no</td>\n",
       "      <td>no</td>\n",
       "      <td>no</td>\n",
       "      <td>no</td>\n",
       "      <td>no</td>\n",
       "      <td>no</td>\n",
       "      <td>mensual</td>\n",
       "      <td>si</td>\n",
       "      <td>cheque electronico</td>\n",
       "      <td>72.10</td>\n",
       "      <td>72.1</td>\n",
       "    </tr>\n",
       "    <tr>\n",
       "      <th>18</th>\n",
       "      <td>0022-TCJCI</td>\n",
       "      <td>si</td>\n",
       "      <td>masculino</td>\n",
       "      <td>1</td>\n",
       "      <td>no</td>\n",
       "      <td>no</td>\n",
       "      <td>45.0</td>\n",
       "      <td>si</td>\n",
       "      <td>no</td>\n",
       "      <td>DSL</td>\n",
       "      <td>si</td>\n",
       "      <td>no</td>\n",
       "      <td>si</td>\n",
       "      <td>no</td>\n",
       "      <td>no</td>\n",
       "      <td>si</td>\n",
       "      <td>un año</td>\n",
       "      <td>no</td>\n",
       "      <td>tarjeta de credito (automatico)</td>\n",
       "      <td>62.70</td>\n",
       "      <td>2791.5</td>\n",
       "    </tr>\n",
       "    <tr>\n",
       "      <th>19</th>\n",
       "      <td>0023-HGHWL</td>\n",
       "      <td>si</td>\n",
       "      <td>masculino</td>\n",
       "      <td>1</td>\n",
       "      <td>no</td>\n",
       "      <td>no</td>\n",
       "      <td>1.0</td>\n",
       "      <td>no</td>\n",
       "      <td>sin servicio de telefono</td>\n",
       "      <td>DSL</td>\n",
       "      <td>no</td>\n",
       "      <td>no</td>\n",
       "      <td>no</td>\n",
       "      <td>no</td>\n",
       "      <td>no</td>\n",
       "      <td>no</td>\n",
       "      <td>mensual</td>\n",
       "      <td>si</td>\n",
       "      <td>cheque electronico</td>\n",
       "      <td>25.10</td>\n",
       "      <td>25.1</td>\n",
       "    </tr>\n",
       "  </tbody>\n",
       "</table>\n",
       "</div>"
      ],
      "text/plain": [
       "     id_cliente Churn cliente.genero  cliente.anciano cliente.pareja  \\\n",
       "0    0002-ORFBO    no       femenino                0             si   \n",
       "1    0003-MKNFE    no      masculino                0             no   \n",
       "2    0004-TLHLJ    si      masculino                0             no   \n",
       "3    0011-IGKFF    si      masculino                1             si   \n",
       "4    0013-EXCHZ    si       femenino                1             si   \n",
       "5    0013-MHZWF    no       femenino                0             no   \n",
       "6    0013-SMEOE    no       femenino                1             si   \n",
       "7    0014-BMAQU    no      masculino                0             si   \n",
       "8    0015-UOCOJ    no       femenino                1             no   \n",
       "9    0016-QLJIS    no       femenino                0             si   \n",
       "10  0017-DInaoC    no      masculino                0             no   \n",
       "11   0017-IUDMW    no       femenino                0             si   \n",
       "12   0018-NYROU    no       femenino                0             si   \n",
       "13   0019-EFAEP    no       femenino                0             no   \n",
       "14   0019-GFNTW    no       femenino                0             no   \n",
       "15   0020-INWCK    no       femenino                0             si   \n",
       "16   0020-JDNXP    no       femenino                0             si   \n",
       "17   0021-IKXGC    no       femenino                1             no   \n",
       "18   0022-TCJCI    si      masculino                1             no   \n",
       "19   0023-HGHWL    si      masculino                1             no   \n",
       "\n",
       "   cliente.dependientes  cliente.tiempo_servicio telefono.servicio_telefono  \\\n",
       "0                    si                      9.0                         si   \n",
       "1                    no                      9.0                         si   \n",
       "2                    no                      4.0                         si   \n",
       "3                    no                     13.0                         si   \n",
       "4                    no                      3.0                         si   \n",
       "5                    si                      9.0                         si   \n",
       "6                    no                     71.0                         si   \n",
       "7                    no                     63.0                         si   \n",
       "8                    no                      7.0                         si   \n",
       "9                    si                      NaN                         si   \n",
       "10                   no                     54.0                         no   \n",
       "11                   si                     72.0                         si   \n",
       "12                   no                      5.0                         si   \n",
       "13                   no                     72.0                         si   \n",
       "14                   no                     56.0                         no   \n",
       "15                   si                     71.0                         si   \n",
       "16                   si                     34.0                         no   \n",
       "17                   no                      1.0                         si   \n",
       "18                   no                     45.0                         si   \n",
       "19                   no                      1.0                         no   \n",
       "\n",
       "      telefono.varias_lineas internet.servicio_internet  \\\n",
       "0                         no                        DSL   \n",
       "1                         si                        DSL   \n",
       "2                         no               fibra optica   \n",
       "3                         no               fibra optica   \n",
       "4                         no               fibra optica   \n",
       "5                         no                        DSL   \n",
       "6                         no               fibra optica   \n",
       "7                         si               fibra optica   \n",
       "8                         no                        DSL   \n",
       "9                         si                        DSL   \n",
       "10  sin servicio de telefono                        DSL   \n",
       "11                        si               fibra optica   \n",
       "12                        no               fibra optica   \n",
       "13                        si               fibra optica   \n",
       "14  sin servicio de telefono                        DSL   \n",
       "15                        si               fibra optica   \n",
       "16  sin servicio de telefono                        DSL   \n",
       "17                        si               fibra optica   \n",
       "18                        no                        DSL   \n",
       "19  sin servicio de telefono                        DSL   \n",
       "\n",
       "   internet.seguridad_online internet.backup_online  \\\n",
       "0                         no                     si   \n",
       "1                         no                     no   \n",
       "2                         no                     no   \n",
       "3                         no                     si   \n",
       "4                         no                     no   \n",
       "5                         no                     no   \n",
       "6                         si                     si   \n",
       "7                         si                     no   \n",
       "8                         si                     no   \n",
       "9                         si                     si   \n",
       "10                        si                     no   \n",
       "11                        si                     si   \n",
       "12                        no                     no   \n",
       "13                        si                     si   \n",
       "14                        si                     si   \n",
       "15                        no                     si   \n",
       "16                        si                     no   \n",
       "17                        no                     no   \n",
       "18                        si                     no   \n",
       "19                        no                     no   \n",
       "\n",
       "   internet.proteccion_dispositivo internet.soporte_tecnico  \\\n",
       "0                               no                       si   \n",
       "1                               no                       no   \n",
       "2                               si                       no   \n",
       "3                               si                       no   \n",
       "4                               no                       si   \n",
       "5                               no                       si   \n",
       "6                               si                       si   \n",
       "7                               no                       si   \n",
       "8                               no                       no   \n",
       "9                               si                       si   \n",
       "10                              no                       si   \n",
       "11                              si                       si   \n",
       "12                              no                       no   \n",
       "13                              si                       no   \n",
       "14                              si                       si   \n",
       "15                              si                       no   \n",
       "16                              si                       si   \n",
       "17                              no                       no   \n",
       "18                              si                       no   \n",
       "19                              no                       no   \n",
       "\n",
       "   internet.tv_streaming internet.peliculas_streaming cuenta.contrato  \\\n",
       "0                     si                           no            None   \n",
       "1                     no                           si         mensual   \n",
       "2                     no                           no         mensual   \n",
       "3                     si                           si         mensual   \n",
       "4                     si                           no         mensual   \n",
       "5                     si                           si         mensual   \n",
       "6                     si                           si        dos años   \n",
       "7                     no                           no        dos años   \n",
       "8                     no                           no         mensual   \n",
       "9                     si                           si        dos años   \n",
       "10                    si                           no        dos años   \n",
       "11                    si                           si        dos años   \n",
       "12                    no                           no         mensual   \n",
       "13                    si                           no        dos años   \n",
       "14                    no                           no        dos años   \n",
       "15                    no                           si        dos años   \n",
       "16                    si                           si          un año   \n",
       "17                    no                           no         mensual   \n",
       "18                    no                           si          un año   \n",
       "19                    no                           no         mensual   \n",
       "\n",
       "   cuenta.facturacion_electronica                   cuenta.metodo_pago  \\\n",
       "0                            None                                 None   \n",
       "1                              no                               cheque   \n",
       "2                              si                   cheque electronico   \n",
       "3                              si                   cheque electronico   \n",
       "4                              si                               cheque   \n",
       "5                              si      tarjeta de credito (automatico)   \n",
       "6                              si  transferencia bancaria (automatica)   \n",
       "7                              si      tarjeta de credito (automatico)   \n",
       "8                              si                   cheque electronico   \n",
       "9                              si                               cheque   \n",
       "10                             no      tarjeta de credito (automatico)   \n",
       "11                             si      tarjeta de credito (automatico)   \n",
       "12                             si                   cheque electronico   \n",
       "13                             si  transferencia bancaria (automatica)   \n",
       "14                             no  transferencia bancaria (automatica)   \n",
       "15                             si      tarjeta de credito (automatico)   \n",
       "16                             no                               cheque   \n",
       "17                             si                   cheque electronico   \n",
       "18                             no      tarjeta de credito (automatico)   \n",
       "19                             si                   cheque electronico   \n",
       "\n",
       "    cuenta.cobros.mensual cuenta.cobros.Total  \n",
       "0                     NaN                None  \n",
       "1                   59.90               542.4  \n",
       "2                   73.90              280.85  \n",
       "3                   98.00             1237.85  \n",
       "4                   83.90               267.4  \n",
       "5                   69.40              571.45  \n",
       "6                  109.70             7904.25  \n",
       "7                   84.65              5377.8  \n",
       "8                   48.20              340.35  \n",
       "9                   90.45              5957.9  \n",
       "10                  45.20             2460.55  \n",
       "11                 116.80             8456.75  \n",
       "12                  68.95               351.5  \n",
       "13                 101.30             7261.25  \n",
       "14                  45.05              2560.1  \n",
       "15                  95.75              6849.4  \n",
       "16                  61.25              1993.2  \n",
       "17                  72.10                72.1  \n",
       "18                  62.70              2791.5  \n",
       "19                  25.10                25.1  "
      ]
     },
     "execution_count": 8,
     "metadata": {},
     "output_type": "execute_result"
    }
   ],
   "source": [
    "datos_churn.head(20)"
   ]
  },
  {
   "cell_type": "markdown",
   "metadata": {
    "id": "BBMbFvkyQGcu"
   },
   "source": [
    "## **2.2 Tratamiento de Datos**\n",
    "\n"
   ]
  },
  {
   "cell_type": "markdown",
   "metadata": {
    "id": "HduU97fjSoOt"
   },
   "source": [
    "### Revisión de Diccionario"
   ]
  },
  {
   "cell_type": "code",
   "execution_count": 9,
   "metadata": {
    "colab": {
     "base_uri": "https://localhost:8080/"
    },
    "id": "JcxPoUU1QSjT",
    "outputId": "8b19e939-ca6f-4859-984d-e7db1b0ec97e"
   },
   "outputs": [
    {
     "ename": "FileNotFoundError",
     "evalue": "[Errno 2] No such file or directory: '/content/Diccionario.txt'",
     "output_type": "error",
     "traceback": [
      "\u001b[1;31m---------------------------------------------------------------------------\u001b[0m",
      "\u001b[1;31mFileNotFoundError\u001b[0m                         Traceback (most recent call last)",
      "Cell \u001b[1;32mIn[9], line 2\u001b[0m\n\u001b[0;32m      1\u001b[0m \u001b[38;5;66;03m#Se carga el diccionario con la información de los atributos\u001b[39;00m\n\u001b[1;32m----> 2\u001b[0m \u001b[38;5;28;01mwith\u001b[39;00m \u001b[38;5;28;43mopen\u001b[39;49m\u001b[43m(\u001b[49m\u001b[38;5;124;43m'\u001b[39;49m\u001b[38;5;124;43m/content/Diccionario.txt\u001b[39;49m\u001b[38;5;124;43m'\u001b[39;49m\u001b[43m,\u001b[49m\u001b[43m \u001b[49m\u001b[38;5;124;43m'\u001b[39;49m\u001b[38;5;124;43mr\u001b[39;49m\u001b[38;5;124;43m'\u001b[39;49m\u001b[43m,\u001b[49m\u001b[43m \u001b[49m\u001b[43mencoding\u001b[49m\u001b[38;5;241;43m=\u001b[39;49m\u001b[38;5;124;43m'\u001b[39;49m\u001b[38;5;124;43mutf-8\u001b[39;49m\u001b[38;5;124;43m'\u001b[39;49m\u001b[43m)\u001b[49m \u001b[38;5;28;01mas\u001b[39;00m file:\n\u001b[0;32m      3\u001b[0m     contenido \u001b[38;5;241m=\u001b[39m file\u001b[38;5;241m.\u001b[39mread()\n\u001b[0;32m      4\u001b[0m \u001b[38;5;28mprint\u001b[39m(contenido)\n",
      "File \u001b[1;32m~\\anaconda3\\lib\\site-packages\\IPython\\core\\interactiveshell.py:282\u001b[0m, in \u001b[0;36m_modified_open\u001b[1;34m(file, *args, **kwargs)\u001b[0m\n\u001b[0;32m    275\u001b[0m \u001b[38;5;28;01mif\u001b[39;00m file \u001b[38;5;129;01min\u001b[39;00m {\u001b[38;5;241m0\u001b[39m, \u001b[38;5;241m1\u001b[39m, \u001b[38;5;241m2\u001b[39m}:\n\u001b[0;32m    276\u001b[0m     \u001b[38;5;28;01mraise\u001b[39;00m \u001b[38;5;167;01mValueError\u001b[39;00m(\n\u001b[0;32m    277\u001b[0m         \u001b[38;5;124mf\u001b[39m\u001b[38;5;124m\"\u001b[39m\u001b[38;5;124mIPython won\u001b[39m\u001b[38;5;124m'\u001b[39m\u001b[38;5;124mt let you open fd=\u001b[39m\u001b[38;5;132;01m{\u001b[39;00mfile\u001b[38;5;132;01m}\u001b[39;00m\u001b[38;5;124m by default \u001b[39m\u001b[38;5;124m\"\u001b[39m\n\u001b[0;32m    278\u001b[0m         \u001b[38;5;124m\"\u001b[39m\u001b[38;5;124mas it is likely to crash IPython. If you know what you are doing, \u001b[39m\u001b[38;5;124m\"\u001b[39m\n\u001b[0;32m    279\u001b[0m         \u001b[38;5;124m\"\u001b[39m\u001b[38;5;124myou can use builtins\u001b[39m\u001b[38;5;124m'\u001b[39m\u001b[38;5;124m open.\u001b[39m\u001b[38;5;124m\"\u001b[39m\n\u001b[0;32m    280\u001b[0m     )\n\u001b[1;32m--> 282\u001b[0m \u001b[38;5;28;01mreturn\u001b[39;00m io_open(file, \u001b[38;5;241m*\u001b[39margs, \u001b[38;5;241m*\u001b[39m\u001b[38;5;241m*\u001b[39mkwargs)\n",
      "\u001b[1;31mFileNotFoundError\u001b[0m: [Errno 2] No such file or directory: '/content/Diccionario.txt'"
     ]
    }
   ],
   "source": [
    "#Se carga el diccionario con la información de los atributos\n",
    "with open('/content/Diccionario.txt', 'r', encoding='utf-8') as file:\n",
    "    contenido = file.read()\n",
    "print(contenido)"
   ]
  },
  {
   "cell_type": "markdown",
   "metadata": {
    "id": "vMnSwoGyS9-N"
   },
   "source": [
    "### Análisis Exploratorio de los Datos"
   ]
  },
  {
   "cell_type": "code",
   "execution_count": null,
   "metadata": {
    "colab": {
     "base_uri": "https://localhost:8080/"
    },
    "id": "NKKNKfOjQa28",
    "outputId": "c61a70c2-fec2-47af-de25-dc0b7c27df9f"
   },
   "outputs": [],
   "source": [
    "#revisión general de los datos\n",
    "datos_churn.info()"
   ]
  },
  {
   "cell_type": "code",
   "execution_count": null,
   "metadata": {
    "colab": {
     "base_uri": "https://localhost:8080/",
     "height": 300
    },
    "id": "qtWcJgAYUTfN",
    "outputId": "e89c0c42-f7ca-4ff0-9959-e82e10deba6f"
   },
   "outputs": [],
   "source": [
    "datos_churn.describe()"
   ]
  },
  {
   "cell_type": "code",
   "execution_count": null,
   "metadata": {
    "colab": {
     "base_uri": "https://localhost:8080/",
     "height": 742
    },
    "id": "Ybd0p5lYROTz",
    "outputId": "2e68238e-36f6-40b8-8cb1-a1d8e5e57719"
   },
   "outputs": [],
   "source": [
    "#Revisión de valores nulos en las columnas\n",
    "datos_churn.isnull().sum()"
   ]
  },
  {
   "cell_type": "code",
   "execution_count": null,
   "metadata": {
    "colab": {
     "base_uri": "https://localhost:8080/",
     "height": 742
    },
    "id": "z9vof5TbSgEd",
    "outputId": "34e566c8-c076-4046-e05d-1284ff5cd9f0"
   },
   "outputs": [],
   "source": [
    "#Revisión de registros vacios en cada columna\n",
    "registros_vacios = datos_churn.apply(lambda col: col.astype(str).str.strip().eq('').sum())\n",
    "registros_vacios"
   ]
  },
  {
   "cell_type": "markdown",
   "metadata": {
    "id": "BwdoylXHgXU5"
   },
   "source": [
    "Se observa que nuestra columna objetivo tiene 226 registros vacios"
   ]
  },
  {
   "cell_type": "code",
   "execution_count": null,
   "metadata": {
    "colab": {
     "base_uri": "https://localhost:8080/",
     "height": 617
    },
    "id": "GoRHDRHhTrCx",
    "outputId": "c55f4265-f630-436b-9714-20445835b704"
   },
   "outputs": [],
   "source": [
    "#revisando los registros en de la columna Churn\n",
    "datos_churn[datos_churn['Churn'] == '']"
   ]
  },
  {
   "cell_type": "code",
   "execution_count": null,
   "metadata": {
    "colab": {
     "base_uri": "https://localhost:8080/",
     "height": 605
    },
    "id": "8xStCO9YUAR1",
    "outputId": "d7407a33-d9e7-439f-cca5-39b5eeb4e7f0"
   },
   "outputs": [],
   "source": [
    "#revisando los registros en de la columna cuenta.cobros.Total\n",
    "datos_churn[datos_churn['cuenta.cobros.Total'] ==  ' ']"
   ]
  },
  {
   "cell_type": "markdown",
   "metadata": {
    "id": "B8mjZNeXUazd"
   },
   "source": [
    "### Generación de la función Preprocesamiento"
   ]
  },
  {
   "cell_type": "code",
   "execution_count": null,
   "metadata": {
    "id": "5HlZWGiQPsDu"
   },
   "outputs": [],
   "source": [
    "def preprocesamiento():\n",
    "  global datos_churn\n",
    "\n",
    "  print(f'Cantidad de registros en el dataset: {datos_churn.shape[0]}')\n",
    "\n",
    "  #identificación de índices con valores vacios en la columna 'cuenta.cobros.Total'\n",
    "  idx = datos_churn[datos_churn['cuenta.cobros.Total'] ==  ' '].index\n",
    "  #se llena los registros vacios identificados multiplicando los valores de 'cuenta.cobros.mensual'*24\n",
    "  datos_churn.loc[idx, 'cuenta.cobros.Total'] = datos_churn.loc[idx, 'cuenta.cobros.mensual']*24\n",
    "  #asignación a tiempo de servicio igual a 24 para aquellos indices identificados\n",
    "  datos_churn.loc[idx, 'cliente.tiempo_servicio'] = datos_churn.loc[idx, 'cliente.tiempo_servicio'].replace(0, 24)\n",
    "\n",
    "  #se convierte a columna numérica y convierte a nulo todo valor que no sea numérico\n",
    "  datos_churn['cuenta.cobros.Total'] = pd.to_numeric(datos_churn['cuenta.cobros.Total'], errors='coerce')\n",
    "  #se cambia el tipo de datos a float\n",
    "  datos_churn['cuenta.cobros.Total'] = datos_churn['cuenta.cobros.Total'].astype('float64')\n",
    "\n",
    "  #seleccion de columnas de tipo objeto\n",
    "  columna_objects = datos_churn.select_dtypes(include='object').columns\n",
    "  #se reemplaza los registros vacios en las columnas seleccionadas por nulos\n",
    "  datos_churn[columna_objects] = datos_churn[columna_objects].replace('', np.nan)\n",
    "  #se eliminan los valores nulos en la columnas object\n",
    "  datos_churn.dropna(subset=columna_objects, inplace=True)\n",
    "  #se eliminan duplicados\n",
    "  datos_churn.drop_duplicates(inplace=True)\n",
    "  print(f'Cantidad de registros en el dataset luego de eliminar nulos y duplicados en las columnas: {datos_churn.shape[0]}')\n",
    "\n",
    "  #relleno los valores nulos de la columna 'cliente.tiempo_servicio'\n",
    "  datos_churn['cliente.tiempo_servicio'] = datos_churn['cliente.tiempo_servicio'].fillna(datos_churn['cuenta.cobros.Total'] / datos_churn['cuenta.cobros.mensual'])\n",
    "  #se reinicia el indice del dataframe\n",
    "  datos_churn = datos_churn.reset_index(drop=True)\n",
    "\n",
    "  #Cálculo del rango intercuartílico (IQR)\n",
    "  valor = datos_churn['cliente.tiempo_servicio']\n",
    "  Q1 = float(valor.quantile(.25))\n",
    "  Q3 = float(valor.quantile(.75))\n",
    "  IQR = Q3 - Q1\n",
    "  #determinación de los limites\n",
    "  limite_inferior = Q1 - (1.5*IQR)\n",
    "  limite_superior = Q3 + (1.5*IQR)\n",
    "  # Identificar índices con valores outliers donde 'cliente.tiempo_servicio' es menor que 'limite_inferior' o mayor que 'limite_superior'\n",
    "  outlier_indices = datos_churn[(datos_churn['cliente.tiempo_servicio'] < limite_inferior) | (datos_churn['cliente.tiempo_servicio'] > limite_superior)].index\n",
    "\n",
    "  #Se recalcula el valor de 'cliente.tiempo_servicio' en los indices con outliers identificados dividiendo cuenta.cobros.Total por cuenta.cobros.mensual\n",
    "  datos_churn.loc[outlier_indices, 'cliente.tiempo_servicio'] = datos_churn['cuenta.cobros.Total'] / datos_churn['cuenta.cobros.mensual']\n",
    "  #Se vuelve a calcular el IQR luego de la corrección\n",
    "  valor = datos_churn['cliente.tiempo_servicio']\n",
    "  Q1 = valor.quantile(.25)\n",
    "  Q3 = valor.quantile(.75)\n",
    "  IQR = Q3 - Q1\n",
    "  #se determina nuevos limites luego del recalculo\n",
    "  limite_inferior = Q1 - (1.5*IQR)\n",
    "  limite_superior = Q3 + (1.5*IQR)\n",
    "  #se elimina los outliers del dataframe\n",
    "  datos_churn = datos_churn[(datos_churn['cliente.tiempo_servicio'] >= limite_inferior) & (datos_churn['cliente.tiempo_servicio'] <= limite_superior)]\n",
    "  #se reinicia el indice del dataframe\n",
    "  datos_churn = datos_churn.reset_index(drop=True)\n",
    "\n",
    "  print(f'Cantidad de registros en el dataset luego de eliminar registros con outliers en tiempo de servicio: {datos_churn.shape[0]}')\n"
   ]
  },
  {
   "cell_type": "code",
   "execution_count": null,
   "metadata": {
    "colab": {
     "base_uri": "https://localhost:8080/"
    },
    "id": "JgwttdpW8ci2",
    "outputId": "7d7085d3-9188-43d3-e197-130ede8d2260"
   },
   "outputs": [],
   "source": [
    "preprocesamiento()"
   ]
  },
  {
   "cell_type": "code",
   "execution_count": null,
   "metadata": {
    "colab": {
     "base_uri": "https://localhost:8080/"
    },
    "id": "F_aAYKb066jb",
    "outputId": "9ccd5e01-2ce0-413e-b73b-933c6fbfc4ee"
   },
   "outputs": [],
   "source": [
    "datos_churn.info()"
   ]
  },
  {
   "cell_type": "markdown",
   "metadata": {
    "id": "MfCXXT9Rg6xr"
   },
   "source": [
    "## **3. Normalización de Datos**"
   ]
  },
  {
   "cell_type": "markdown",
   "metadata": {
    "id": "K2zINcEBhIGK"
   },
   "source": [
    "Observación de valores únicos"
   ]
  },
  {
   "cell_type": "code",
   "execution_count": null,
   "metadata": {
    "colab": {
     "base_uri": "https://localhost:8080/"
    },
    "id": "v6QxUVbLUvWd",
    "outputId": "77cc23b9-f826-4cd2-e9d3-96ff2c54bb47"
   },
   "outputs": [],
   "source": [
    "#Se analiza que valores únicos contiene cada columna\n",
    "for col in datos_churn.columns:\n",
    "    print(f\"Columna: {col}\")\n",
    "    print(datos_churn[col].unique())\n",
    "    print(\"-\" * 30)\n",
    "\n"
   ]
  },
  {
   "cell_type": "markdown",
   "metadata": {},
   "source": [
    "En la normalización se busca eliminar columnas innecesarias y se reemplazan los valores categóricos con representaciones numéric"
   ]
  },
  {
   "cell_type": "code",
   "execution_count": null,
   "metadata": {
    "id": "xV8EKwaEgyI3"
   },
   "outputs": [],
   "source": [
    "#Se define una función normalización\n",
    "def normalización():\n",
    "    global datos_churn\n",
    "\n",
    "    # Eliminar columna 'id_cliente'\n",
    "    datos_churn = datos_churn.drop(columns=['id_cliente'])\n",
    "\n",
    "    # Diccionario de mapeo para las categorías\n",
    "    mapeo = {\n",
    "        'no': 0,\n",
    "        'si': 1,\n",
    "        'masculino': 0,\n",
    "        'femenino': 1\n",
    "    }\n",
    "\n",
    "    # Columnas a normalizar\n",
    "    columnas_a_normalizar = [\n",
    "        'telefono.servicio_telefono', 'Churn',\n",
    "        'cliente.pareja', 'cliente.dependientes',\n",
    "        'cuenta.facturacion_electronica', 'cliente.genero'\n",
    "    ]\n",
    "\n",
    "    # Reemplazo de valores categóricos por numéricos\n",
    "    datos_churn[columnas_a_normalizar] = datos_churn[columnas_a_normalizar].replace(mapeo)\n",
    "\n",
    "    # Creación de variables dummy para columnas categóricas restantes\n",
    "    datos_churn = pd.get_dummies(datos_churn, drop_first=True)\n",
    "\n",
    "    # Convertir valores booleanos generados por dummies a numéricos\n",
    "    cols_booleanas = datos_churn.select_dtypes(include='bool').columns\n",
    "    datos_churn[cols_booleanas] = datos_churn[cols_booleanas].astype(int)\n",
    "\n",
    "    # Reinicio del índice\n",
    "    datos_churn.reset_index(drop=True, inplace=True)\n",
    "\n",
    "    return datos_churn"
   ]
  },
  {
   "cell_type": "code",
   "execution_count": null,
   "metadata": {
    "colab": {
     "base_uri": "https://localhost:8080/",
     "height": 495
    },
    "id": "Apu8J1UqhRgB",
    "outputId": "d00d2bd8-b507-477a-dd12-6ada92165e73"
   },
   "outputs": [],
   "source": [
    "normalización()\n",
    "datos_churn"
   ]
  },
  {
   "cell_type": "code",
   "execution_count": null,
   "metadata": {
    "colab": {
     "base_uri": "https://localhost:8080/"
    },
    "id": "olDaXDaJpLZ-",
    "outputId": "e66e714a-c301-47ee-db09-57b1ebae6015"
   },
   "outputs": [],
   "source": [
    "#se observa nuevamente como queda el dataframe\n",
    "datos_churn.info()"
   ]
  },
  {
   "cell_type": "markdown",
   "metadata": {
    "id": "lOSpTrw6BcDD"
   },
   "source": [
    "### **3.1. Balanceamiento de los datos**"
   ]
  },
  {
   "cell_type": "code",
   "execution_count": null,
   "metadata": {
    "colab": {
     "base_uri": "https://localhost:8080/",
     "height": 449
    },
    "id": "JtfIdWB2BRkP",
    "outputId": "4899321d-59ff-4378-b409-4a463858d65c"
   },
   "outputs": [],
   "source": [
    "#se verifica visualmente como se dividen los valores de la variable 'Churn'\n",
    "ax = sns.countplot(x='Churn', data=datos_churn)"
   ]
  },
  {
   "cell_type": "code",
   "execution_count": null,
   "metadata": {
    "colab": {
     "base_uri": "https://localhost:8080/",
     "height": 178
    },
    "id": "10SruiA_B3y0",
    "outputId": "de04e829-de54-4ba7-f0dc-2b19401607e6"
   },
   "outputs": [],
   "source": [
    "#se observa la distribución de forma numérica\n",
    "datos_churn.Churn.value_counts()"
   ]
  },
  {
   "cell_type": "code",
   "execution_count": null,
   "metadata": {
    "id": "k0SdjLg4COdm"
   },
   "outputs": [],
   "source": [
    "#dividiendo los datos en características y target\n",
    "X = datos_churn.drop('Churn', axis = 1)\n",
    "y = datos_churn['Churn']"
   ]
  },
  {
   "cell_type": "code",
   "execution_count": null,
   "metadata": {
    "id": "Zej8WkjcCWU-"
   },
   "outputs": [],
   "source": [
    "smt = SMOTE(random_state=123)\n",
    "X, y = smt.fit_resample(X, y)"
   ]
  },
  {
   "cell_type": "code",
   "execution_count": null,
   "metadata": {
    "id": "nfXIeqRKCa-a"
   },
   "outputs": [],
   "source": [
    "#unión de los datos balanceados\n",
    "datos_churn = pd.concat([X, y], axis=1)"
   ]
  },
  {
   "cell_type": "code",
   "execution_count": null,
   "metadata": {
    "colab": {
     "base_uri": "https://localhost:8080/",
     "height": 449
    },
    "id": "3sjIuOFWClin",
    "outputId": "57d049ec-33bb-49b0-d3b3-f4393098d368"
   },
   "outputs": [],
   "source": [
    "#verificación 2 - balanceamiento\n",
    "ax = sns.countplot(x='Churn', data=datos_churn)"
   ]
  },
  {
   "cell_type": "code",
   "execution_count": null,
   "metadata": {
    "colab": {
     "base_uri": "https://localhost:8080/",
     "height": 178
    },
    "id": "9aTtnSnuCsvy",
    "outputId": "d790698d-abe8-48ff-8aab-2387c06eca99"
   },
   "outputs": [],
   "source": [
    "datos_churn.Churn.value_counts()"
   ]
  },
  {
   "cell_type": "markdown",
   "metadata": {},
   "source": [
    "### **3.2. Eliminación de Columnas innecesarias**"
   ]
  },
  {
   "cell_type": "markdown",
   "metadata": {},
   "source": [
    "Mediante distintos métodos de análisis gráficos se analiza que columnas son irrelevantes para realizar la predicción"
   ]
  },
  {
   "cell_type": "code",
   "execution_count": null,
   "metadata": {
    "id": "FU7dZmRTpq8Z"
   },
   "outputs": [],
   "source": [
    "#se define una función que permita generar un diagrama de puntos sin tomar encuenta nuestra columna objetivo 'Churn'\n",
    "def diagrama_puntos(df, inicio, fin):\n",
    "  df = df[df.select_dtypes(include= 'int').columns]\n",
    "  y = df['Churn']\n",
    "  x = df.drop(columns='Churn')\n",
    "  df = pd.concat([y,x.iloc[:,inicio:fin]], axis=1)\n",
    "  df_melted = pd.melt(df, id_vars='Churn', var_name='features', value_name='valores')\n",
    "  plt.figure(figsize=(12,6))\n",
    "  sns.pointplot(x='features', y='valores', hue='Churn', data=df_melted)\n",
    "  plt.xticks(rotation=90)\n",
    "  plt.show()"
   ]
  },
  {
   "cell_type": "code",
   "execution_count": null,
   "metadata": {
    "colab": {
     "base_uri": "https://localhost:8080/",
     "height": 934
    },
    "id": "wzMcr1jCqc3x",
    "outputId": "dbb4831a-d665-48d9-91bd-31d353c0b848"
   },
   "outputs": [],
   "source": [
    "diagrama_puntos(datos_churn, 0, 31)"
   ]
  },
  {
   "cell_type": "code",
   "execution_count": null,
   "metadata": {
    "id": "OmYKQ9NX0XmE"
   },
   "outputs": [],
   "source": [
    "#Se define un mapa de calor para observar la correlación entre las columnas, tomando como referencia principal la correlación con 'Churn'\n",
    "def mapa_calor(df):\n",
    "  grafico = df.corr()\n",
    "  plt.figure(figsize=(12,6))\n",
    "  sns.heatmap(grafico, annot=True, fmt='.1f')\n",
    "  return grafico"
   ]
  },
  {
   "cell_type": "code",
   "execution_count": null,
   "metadata": {
    "colab": {
     "base_uri": "https://localhost:8080/",
     "height": 1000
    },
    "id": "kOkamh3l1PFS",
    "outputId": "b614e952-1006-40c5-e353-0562f410835c"
   },
   "outputs": [],
   "source": [
    "mapa_calor(datos_churn)"
   ]
  },
  {
   "cell_type": "markdown",
   "metadata": {},
   "source": [
    "#### Interpretación\n",
    "\n",
    "Se observa que las columnas: 'cliente.anciano','telefono.servicio_telefono', 'telefono.varias_lineas_sin servicio de telefono','telefono.varias_lineas_si' tienen poca o nula influencia para establecer una predicción con base a dichas columnas"
   ]
  },
  {
   "cell_type": "code",
   "execution_count": null,
   "metadata": {
    "colab": {
     "base_uri": "https://localhost:8080/",
     "height": 461
    },
    "id": "rhY83z9q255R",
    "outputId": "cb7959d4-38fe-4529-b278-e6408b5f6a6b"
   },
   "outputs": [],
   "source": [
    "# Se eliminan las columnas innecesarias\n",
    "columnas_a_eliminar = ['cliente.anciano','telefono.servicio_telefono', 'telefono.varias_lineas_sin servicio de telefono','telefono.varias_lineas_si']\n",
    "datos_churn = datos_churn.drop(columns=columnas_a_eliminar)\n",
    "datos_churn"
   ]
  },
  {
   "cell_type": "markdown",
   "metadata": {},
   "source": [
    "## 4. Modelado"
   ]
  },
  {
   "cell_type": "markdown",
   "metadata": {
    "id": "zQn1UlT6mwbB"
   },
   "source": [
    "### **4.1 Modelo RFE**"
   ]
  },
  {
   "cell_type": "code",
   "execution_count": null,
   "metadata": {
    "id": "7GBZfOh5hvu5"
   },
   "outputs": [],
   "source": [
    "# Se divide nuestro conjunto de datos para establecer la parte de entrenamiento y prueba\n",
    "y = datos_churn['Churn']\n",
    "x = datos_churn.drop(columns='Churn')\n",
    "train_x, test_x, train_y, test_y = train_test_split(x, y, test_size=0.3, random_state = 50)"
   ]
  },
  {
   "cell_type": "code",
   "execution_count": null,
   "metadata": {
    "id": "nMusbKVL172C"
   },
   "outputs": [],
   "source": [
    "# se define una función que permite ejecutar la predicción con base a el modelo de clasificación RFE\n",
    "def pronosticar_RFE(train_x, train_y, test_x, test_y):\n",
    "  model = RandomForestClassifier()\n",
    "  selector = RFE(estimator=model, n_features_to_select=10, step=1)\n",
    "  train_x_selected = selector.fit_transform(train_x, train_y)\n",
    "  test_x_selected = selector.transform(test_x)\n",
    "  model.fit(train_x_selected, train_y)\n",
    "  test_score = model.score(test_x_selected, test_y)\n",
    "  print(f'Accuracy en prueba con RFE: {test_score}')"
   ]
  },
  {
   "cell_type": "code",
   "execution_count": null,
   "metadata": {
    "colab": {
     "base_uri": "https://localhost:8080/"
    },
    "id": "nc1ne2T_2ptS",
    "outputId": "881a4305-8ec3-4711-8fc9-cc096b3ae017"
   },
   "outputs": [],
   "source": [
    "#Se ejecuta la función con el modelo\n",
    "pronosticar_RFE(train_x, train_y, test_x, test_y)"
   ]
  }
 ],
 "metadata": {
  "colab": {
   "provenance": []
  },
  "kernelspec": {
   "display_name": "Python 3 (ipykernel)",
   "language": "python",
   "name": "python3"
  },
  "language_info": {
   "codemirror_mode": {
    "name": "ipython",
    "version": 3
   },
   "file_extension": ".py",
   "mimetype": "text/x-python",
   "name": "python",
   "nbconvert_exporter": "python",
   "pygments_lexer": "ipython3",
   "version": "3.10.9"
  }
 },
 "nbformat": 4,
 "nbformat_minor": 1
}
